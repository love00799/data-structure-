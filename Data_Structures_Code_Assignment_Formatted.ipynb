{
 "cells": [
  {
   "cell_type": "markdown",
   "id": "212f17da",
   "metadata": {},
   "source": [
    "### **Write a code to create a string with your name and print it**"
   ]
  },
  {
   "cell_type": "code",
   "execution_count": null,
   "id": "8d49583d",
   "metadata": {},
   "outputs": [],
   "source": [
    "name = \"Your Name\"\n",
    "print(name)"
   ]
  },
  {
   "cell_type": "markdown",
   "id": "1dcf037d",
   "metadata": {},
   "source": [
    "### **Write a code to find the length of the string \"Hello World\"**"
   ]
  },
  {
   "cell_type": "code",
   "execution_count": null,
   "id": "6561b7a2",
   "metadata": {},
   "outputs": [],
   "source": [
    "text = \"Hello World\"\n",
    "print(len(text))"
   ]
  },
  {
   "cell_type": "markdown",
   "id": "64e53976",
   "metadata": {},
   "source": [
    "### **Write a code to slice the first 3 characters from the string \"Python Programming\"**"
   ]
  },
  {
   "cell_type": "code",
   "execution_count": null,
   "id": "8acc3389",
   "metadata": {},
   "outputs": [],
   "source": [
    "text = \"Python Programming\"\n",
    "print(text[:3])"
   ]
  },
  {
   "cell_type": "markdown",
   "id": "9ebe85d6",
   "metadata": {},
   "source": [
    "### **Write a code to convert the string \"hello\" to uppercase**"
   ]
  },
  {
   "cell_type": "code",
   "execution_count": null,
   "id": "80fe75eb",
   "metadata": {},
   "outputs": [],
   "source": [
    "print(\"hello\".upper())"
   ]
  },
  {
   "cell_type": "markdown",
   "id": "4c73cea4",
   "metadata": {},
   "source": [
    "### **Write a code to replace the word \"apple\" with \"orange\" in the string \"I like apple\"**"
   ]
  },
  {
   "cell_type": "code",
   "execution_count": null,
   "id": "59ef8e07",
   "metadata": {},
   "outputs": [],
   "source": [
    "text = \"I like apple\"\n",
    "print(text.replace(\"apple\", \"orange\"))"
   ]
  },
  {
   "cell_type": "markdown",
   "id": "fb513955",
   "metadata": {},
   "source": [
    "### **Write a code to create a list with numbers 1 to 5 and print it**"
   ]
  },
  {
   "cell_type": "code",
   "execution_count": null,
   "id": "111f8166",
   "metadata": {},
   "outputs": [],
   "source": [
    "numbers = [1, 2, 3, 4, 5]\n",
    "print(numbers)"
   ]
  },
  {
   "cell_type": "markdown",
   "id": "ed185701",
   "metadata": {},
   "source": [
    "### **Write a code to append the number 10 to the list [1, 2, 3, 4]**"
   ]
  },
  {
   "cell_type": "code",
   "execution_count": null,
   "id": "e8d2751e",
   "metadata": {},
   "outputs": [],
   "source": [
    "lst = [1, 2, 3, 4]\n",
    "lst.append(10)\n",
    "print(lst)"
   ]
  },
  {
   "cell_type": "markdown",
   "id": "a6943ef9",
   "metadata": {},
   "source": [
    "### **Write a code to remove the number 3 from the list [1, 2, 3, 4, 5]**"
   ]
  },
  {
   "cell_type": "code",
   "execution_count": null,
   "id": "c453977e",
   "metadata": {},
   "outputs": [],
   "source": [
    "lst = [1, 2, 3, 4, 5]\n",
    "lst.remove(3)\n",
    "print(lst)"
   ]
  },
  {
   "cell_type": "markdown",
   "id": "4de3886a",
   "metadata": {},
   "source": [
    "### **Write a code to access the second element in the list ['a', 'b', 'c', 'd']**"
   ]
  },
  {
   "cell_type": "code",
   "execution_count": null,
   "id": "d526c2d5",
   "metadata": {},
   "outputs": [],
   "source": [
    "lst = ['a', 'b', 'c', 'd']\n",
    "print(lst[1])"
   ]
  },
  {
   "cell_type": "markdown",
   "id": "db1a07e9",
   "metadata": {},
   "source": [
    "### **Write a code to reverse the list [10, 20, 30, 40, 50]**"
   ]
  },
  {
   "cell_type": "code",
   "execution_count": null,
   "id": "da3cc81e",
   "metadata": {},
   "outputs": [],
   "source": [
    "lst = [10, 20, 30, 40, 50]\n",
    "lst.reverse()\n",
    "print(lst)"
   ]
  },
  {
   "cell_type": "markdown",
   "id": "8419eb17",
   "metadata": {},
   "source": [
    "### **Write a code to create a tuple with the elements 100, 200, 300 and print it**"
   ]
  },
  {
   "cell_type": "code",
   "execution_count": null,
   "id": "67045b73",
   "metadata": {},
   "outputs": [],
   "source": [
    "tpl = (100, 200, 300)\n",
    "print(tpl)"
   ]
  },
  {
   "cell_type": "markdown",
   "id": "6871deb9",
   "metadata": {},
   "source": [
    "### **Write a code to access the second-to-last element of the tuple ('red', 'green', 'blue', 'yellow')**"
   ]
  },
  {
   "cell_type": "code",
   "execution_count": null,
   "id": "73b1b6b9",
   "metadata": {},
   "outputs": [],
   "source": [
    "tpl = ('red', 'green', 'blue', 'yellow')\n",
    "print(tpl[-2])"
   ]
  },
  {
   "cell_type": "markdown",
   "id": "fb6ed627",
   "metadata": {},
   "source": [
    "### **Write a code to find the minimum number in the tuple (10, 20, 5, 15)**"
   ]
  },
  {
   "cell_type": "code",
   "execution_count": null,
   "id": "0bc68f42",
   "metadata": {},
   "outputs": [],
   "source": [
    "tpl = (10, 20, 5, 15)\n",
    "print(min(tpl))"
   ]
  },
  {
   "cell_type": "markdown",
   "id": "74a0d077",
   "metadata": {},
   "source": [
    "### **Write a code to find the index of the element \"cat\" in the tuple ('dog', 'cat', 'rabbit')**"
   ]
  },
  {
   "cell_type": "code",
   "execution_count": null,
   "id": "9ecccd94",
   "metadata": {},
   "outputs": [],
   "source": [
    "tpl = ('dog', 'cat', 'rabbit')\n",
    "print(tpl.index(\"cat\"))"
   ]
  },
  {
   "cell_type": "markdown",
   "id": "33423067",
   "metadata": {},
   "source": [
    "### **Write a code to create a tuple containing three different fruits and check if \"kiwi\" is in it**"
   ]
  },
  {
   "cell_type": "code",
   "execution_count": null,
   "id": "39538afe",
   "metadata": {},
   "outputs": [],
   "source": [
    "fruits = (\"apple\", \"banana\", \"cherry\")\n",
    "print(\"kiwi\" in fruits)"
   ]
  },
  {
   "cell_type": "markdown",
   "id": "e7f5dca7",
   "metadata": {},
   "source": [
    "### **Write a code to create a set with the elements 'a', 'b', 'c' and print it**"
   ]
  },
  {
   "cell_type": "code",
   "execution_count": null,
   "id": "2e6deb22",
   "metadata": {},
   "outputs": [],
   "source": [
    "s = {\"a\", \"b\", \"c\"}\n",
    "print(s)"
   ]
  },
  {
   "cell_type": "markdown",
   "id": "9bb98692",
   "metadata": {},
   "source": [
    "### **Write a code to clear all elements from the set {1, 2, 3, 4, 5}**"
   ]
  },
  {
   "cell_type": "code",
   "execution_count": null,
   "id": "5df7aef8",
   "metadata": {},
   "outputs": [],
   "source": [
    "s = {1, 2, 3, 4, 5}\n",
    "s.clear()\n",
    "print(s)"
   ]
  },
  {
   "cell_type": "markdown",
   "id": "9b271719",
   "metadata": {},
   "source": [
    "### **Write a code to remove the element 4 from the set {1, 2, 3, 4}**"
   ]
  },
  {
   "cell_type": "code",
   "execution_count": null,
   "id": "87774e3b",
   "metadata": {},
   "outputs": [],
   "source": [
    "s = {1, 2, 3, 4}\n",
    "s.remove(4)\n",
    "print(s)"
   ]
  },
  {
   "cell_type": "markdown",
   "id": "64068fbd",
   "metadata": {},
   "source": [
    "### **Write a code to find the union of two sets {1, 2, 3} and {3, 4, 5}**"
   ]
  },
  {
   "cell_type": "code",
   "execution_count": null,
   "id": "6746b715",
   "metadata": {},
   "outputs": [],
   "source": [
    "set1 = {1, 2, 3}\n",
    "set2 = {3, 4, 5}\n",
    "print(set1.union(set2))"
   ]
  },
  {
   "cell_type": "markdown",
   "id": "d9004296",
   "metadata": {},
   "source": [
    "### **Write a code to find the intersection of two sets {1, 2, 3} and {2, 3, 4}**"
   ]
  },
  {
   "cell_type": "code",
   "execution_count": null,
   "id": "26484143",
   "metadata": {},
   "outputs": [],
   "source": [
    "set1 = {1, 2, 3}\n",
    "set2 = {2, 3, 4}\n",
    "print(set1.intersection(set2))"
   ]
  },
  {
   "cell_type": "markdown",
   "id": "a908c564",
   "metadata": {},
   "source": [
    "### **Write a code to create a dictionary with the keys \"name\", \"age\", and \"city\", and print it**"
   ]
  },
  {
   "cell_type": "code",
   "execution_count": null,
   "id": "510a8c80",
   "metadata": {},
   "outputs": [],
   "source": [
    "person = {\"name\": \"Alice\", \"age\": 30, \"city\": \"Paris\"}\n",
    "print(person)"
   ]
  },
  {
   "cell_type": "markdown",
   "id": "3872041f",
   "metadata": {},
   "source": [
    "### **Write a code to add a new key-value pair \"country\": \"USA\" to the dictionary {'name': 'John', 'age': 25}**"
   ]
  },
  {
   "cell_type": "code",
   "execution_count": null,
   "id": "1567cb77",
   "metadata": {},
   "outputs": [],
   "source": [
    "person = {\"name\": \"John\", \"age\": 25}\n",
    "person[\"country\"] = \"USA\"\n",
    "print(person)"
   ]
  },
  {
   "cell_type": "markdown",
   "id": "bc0579d7",
   "metadata": {},
   "source": [
    "### **Write a code to access the value associated with the key \"name\" in the dictionary {'name': 'Alice', 'age': 30}**"
   ]
  },
  {
   "cell_type": "code",
   "execution_count": null,
   "id": "4690cb05",
   "metadata": {},
   "outputs": [],
   "source": [
    "person = {\"name\": \"Alice\", \"age\": 30}\n",
    "print(person[\"name\"])"
   ]
  },
  {
   "cell_type": "markdown",
   "id": "619c62ed",
   "metadata": {},
   "source": [
    "### **Write a code to remove the key \"age\" from the dictionary {'name': 'Bob', 'age': 22, 'city': 'New York'}**"
   ]
  },
  {
   "cell_type": "code",
   "execution_count": null,
   "id": "66390e36",
   "metadata": {},
   "outputs": [],
   "source": [
    "person = {\"name\": \"Bob\", \"age\": 22, \"city\": \"New York\"}\n",
    "del person[\"age\"]\n",
    "print(person)"
   ]
  },
  {
   "cell_type": "markdown",
   "id": "80bc7f44",
   "metadata": {},
   "source": [
    "### **Write a code to check if the key \"city\" exists in the dictionary {'name': 'Alice', 'city': 'Paris'}**"
   ]
  },
  {
   "cell_type": "code",
   "execution_count": null,
   "id": "f5169abf",
   "metadata": {},
   "outputs": [],
   "source": [
    "person = {\"name\": \"Alice\", \"city\": \"Paris\"}\n",
    "print(\"city\" in person)"
   ]
  },
  {
   "cell_type": "markdown",
   "id": "3089cc74",
   "metadata": {},
   "source": [
    "### **Write a code to create a list, a tuple, and a dictionary, and print them all**"
   ]
  },
  {
   "cell_type": "code",
   "execution_count": null,
   "id": "9c89d1c6",
   "metadata": {},
   "outputs": [],
   "source": [
    "lst = [1, 2, 3]\n",
    "tpl = (1, 2, 3)\n",
    "dct = {\"a\": 1, \"b\": 2}\n",
    "print(lst)\n",
    "print(tpl)\n",
    "print(dct)"
   ]
  },
  {
   "cell_type": "markdown",
   "id": "0abb2d29",
   "metadata": {},
   "source": [
    "### **Write a code to create a list of 5 random numbers between 1 and 100, sort it in ascending order, and print the result**"
   ]
  },
  {
   "cell_type": "code",
   "execution_count": null,
   "id": "cc2bc00c",
   "metadata": {},
   "outputs": [],
   "source": [
    "import random\n",
    "nums = random.sample(range(1, 101), 5)\n",
    "nums.sort()\n",
    "print(nums)"
   ]
  },
  {
   "cell_type": "markdown",
   "id": "3f7a139a",
   "metadata": {},
   "source": [
    "### **Write a code to create a list with strings and print the element at the third index**"
   ]
  },
  {
   "cell_type": "code",
   "execution_count": null,
   "id": "cb0ad1bb",
   "metadata": {},
   "outputs": [],
   "source": [
    "lst = [\"apple\", \"banana\", \"cherry\", \"date\"]\n",
    "print(lst[3])"
   ]
  },
  {
   "cell_type": "markdown",
   "id": "f32671a6",
   "metadata": {},
   "source": [
    "### **Write a code to combine two dictionaries into one and print the result**"
   ]
  },
  {
   "cell_type": "code",
   "execution_count": null,
   "id": "c152a7f2",
   "metadata": {},
   "outputs": [],
   "source": [
    "dict1 = {\"a\": 1, \"b\": 2}\n",
    "dict2 = {\"c\": 3, \"d\": 4}\n",
    "combined = {**dict1, **dict2}\n",
    "print(combined)"
   ]
  },
  {
   "cell_type": "markdown",
   "id": "80069d2a",
   "metadata": {},
   "source": [
    "### **Write a code to convert a list of strings into a set**"
   ]
  },
  {
   "cell_type": "code",
   "execution_count": null,
   "id": "f3593590",
   "metadata": {},
   "outputs": [],
   "source": [
    "lst = [\"apple\", \"banana\", \"apple\", \"orange\"]\n",
    "unique_set = set(lst)\n",
    "print(unique_set)"
   ]
  }
 ],
 "metadata": {},
 "nbformat": 4,
 "nbformat_minor": 5
}
