{
 "cells": [
  {
   "cell_type": "markdown",
   "id": "849804da",
   "metadata": {},
   "source": [
    "\n",
    "# Python Data Types and Structures – Q&A\n",
    "\n",
    "---\n",
    "\n",
    "## 1. What are data structures, and why are they important?\n",
    "\n",
    "**Data structures** are specialized formats for organizing, storing, and accessing collections of data. Think of them as containers that help manage data based on how it's meant to be used.\n",
    "\n",
    "**Why are they important?**\n",
    "- Improve performance\n",
    "- Optimize memory usage\n",
    "- Simplify adding, removing, or modifying elements\n",
    "- Enhance searching and sorting efficiency\n",
    "\n",
    "---\n",
    "\n",
    "## 2. Explain the difference between mutable and immutable data types with examples.\n",
    "\n",
    "- **Mutable**: Can be changed after creation (e.g., list, dict, set)\n",
    "```python\n",
    "my_list = [1, 2, 3]\n",
    "my_list.append(4)  # List is changed\n",
    "```\n",
    "\n",
    "- **Immutable**: Cannot be changed after creation (e.g., string, tuple)\n",
    "```python\n",
    "name = \"Alice\"\n",
    "# name[0] = \"M\"  # Error: Strings are immutable\n",
    "```\n",
    "\n",
    "---\n",
    "\n",
    "## 3. What are the main differences between lists and tuples in Python?\n",
    "\n",
    "| Feature     | List                         | Tuple                          |\n",
    "|-------------|------------------------------|--------------------------------|\n",
    "| Mutability  | Mutable                      | Immutable                      |\n",
    "| Syntax      | `[]`                         | `()`                           |\n",
    "| Use Case    | Dynamic data                 | Fixed data (e.g., coordinates) |\n",
    "| Example     | `[\"a\", 1, True]`             | `(\"a\", 1, True)`               |\n",
    "\n",
    "---\n",
    "\n",
    "## 4. Describe how dictionaries store data.\n",
    "\n",
    "- Store **unordered key-value pairs**\n",
    "- Each **key** is unique and maps to a **value**\n",
    "- Keys/values can be various data types\n",
    "\n",
    "```python\n",
    "student = {\"name\": \"Alice\", \"age\": 20}\n",
    "print(student[\"name\"])  # Output: Alice\n",
    "```\n",
    "\n",
    "---\n",
    "\n",
    "## 5. Why might you use a set instead of a list in Python?\n",
    "\n",
    "- Sets store **unique** elements and are **unordered**\n",
    "- Useful for **checking membership** or eliminating duplicates\n",
    "```python\n",
    "items = [\"apple\", \"apple\", \"banana\"]\n",
    "unique_items = set(items)  # {\"apple\", \"banana\"}\n",
    "```\n",
    "\n",
    "---\n",
    "\n",
    "## 6. What is a string in Python, and how is it different from a list?\n",
    "\n",
    "- **String**: Ordered collection of characters; **immutable**\n",
    "- **List**: Ordered, can hold multiple data types; **mutable**\n",
    "\n",
    "```python\n",
    "text = \"hello\"\n",
    "letters = ['h', 'e', 'l', 'l', 'o']\n",
    "```\n",
    "\n",
    "---\n",
    "\n",
    "## 7. How do tuples ensure data integrity in Python?\n",
    "\n",
    "Tuples are **immutable**, meaning once they are created, they **cannot be modified**. This prevents accidental changes, making them ideal for secure, fixed data.\n",
    "\n",
    "---\n",
    "\n",
    "## 8. What is a hash table, and how does it relate to dictionaries in Python?\n",
    "\n",
    "A **hash table** maps keys to values using a hash function. Python’s **dictionary** is an implementation of a hash table.\n",
    "\n",
    "---\n",
    "\n",
    "## 9. Can lists contain different data types in Python?\n",
    "\n",
    "Yes, lists are **heterogeneous** – they can store items of various data types.\n",
    "```python\n",
    "mixed = [1, \"apple\", True, 3.14]\n",
    "```\n",
    "\n",
    "---\n",
    "\n",
    "## 10. Explain why strings are immutable in Python.\n",
    "\n",
    "Strings are immutable to:\n",
    "- Improve performance and memory efficiency\n",
    "- Ensure security (especially in keys or configurations)\n",
    "- Allow safe sharing across different parts of code\n",
    "\n",
    "---\n",
    "\n",
    "## 11. What advantages do dictionaries offer over lists for certain tasks?\n",
    "\n",
    "- Fast data lookup using keys (O(1) time complexity)\n",
    "- More descriptive access via key names\n",
    "- Great for structured data\n",
    "\n",
    "---\n",
    "\n",
    "## 12. Describe a scenario where using a tuple would be preferable over a list.\n",
    "\n",
    "Use a tuple for **coordinates** or **configuration settings** that must not change:\n",
    "```python\n",
    "location = (12.34, 56.78)  # Latitude, Longitude\n",
    "```\n",
    "\n",
    "---\n",
    "\n",
    "## 13. How do sets handle duplicate values in Python?\n",
    "\n",
    "Sets automatically **remove duplicates**:\n",
    "```python\n",
    "s = {1, 2, 2, 3}\n",
    "print(s)  # {1, 2, 3}\n",
    "```\n",
    "\n",
    "---\n",
    "\n",
    "## 14. How does the “in” keyword work differently for lists and dictionaries?\n",
    "\n",
    "- In **lists**, `in` checks for values:\n",
    "```python\n",
    "3 in [1, 2, 3]  # True\n",
    "```\n",
    "\n",
    "- In **dictionaries**, `in` checks for **keys**:\n",
    "```python\n",
    "\"age\" in {\"name\": \"Bob\", \"age\": 30}  # True\n",
    "```\n",
    "\n",
    "---\n",
    "\n",
    "## 15. Can you modify the elements of a tuple? Explain why or why not.\n",
    "\n",
    "No. Tuples are **immutable** – once created, elements **cannot be changed**. This provides consistency and prevents accidental changes.\n",
    "\n",
    "---\n",
    "\n",
    "## 16. What is a nested dictionary, and give an example of its use case?\n",
    "\n",
    "A **nested dictionary** is a dictionary where values can also be dictionaries.\n",
    "\n",
    "```python\n",
    "student = {\n",
    "  \"name\": \"Alice\",\n",
    "  \"grades\": {\"math\": 90, \"science\": 85}\n",
    "}\n",
    "```\n",
    "\n",
    "---\n",
    "\n",
    "## 17. Describe the time complexity of accessing elements in a dictionary.\n",
    "\n",
    "Accessing elements by key in a dictionary has an average **O(1) time complexity**, thanks to hashing.\n",
    "\n",
    "---\n",
    "\n",
    "## 18. In what situations are lists preferred over dictionaries?\n",
    "\n",
    "Use **lists** when:\n",
    "- Order matters\n",
    "- Data doesn't need labeling (e.g., a sequence of items)\n",
    "- You want to iterate in order\n",
    "\n",
    "---\n",
    "\n",
    "## 19. Why are dictionaries considered unordered, and how does that affect data retrieval?\n",
    "\n",
    "Dictionaries are **unordered** (prior to Python 3.7) – they don't maintain item order. In Python 3.7+, they maintain **insertion order**, but conceptually they focus on **key-based access**, not position.\n",
    "\n",
    "---\n",
    "\n",
    "## 20. Explain the difference between a list and a dictionary in terms of data retrieval.\n",
    "\n",
    "- **List**: Retrieve data using index (position)\n",
    "```python\n",
    "colors = [\"red\", \"green\"]\n",
    "print(colors[0])  # \"red\"\n",
    "```\n",
    "\n",
    "- **Dictionary**: Retrieve data using key\n",
    "```python\n",
    "person = {\"name\": \"Alice\"}\n",
    "print(person[\"name\"])  # \"Alice\"\n",
    "```\n"
   ]
  },
  {
   "cell_type": "markdown",
   "id": "b805711f",
   "metadata": {},
   "source": [
    "**Q1. Create a string with your name and print it**\n",
    "`YourName`"
   ]
  },
  {
   "cell_type": "markdown",
   "id": "97e2fb6f",
   "metadata": {},
   "source": [
    "**Q2. Find the length of the string \"Hello World\"**\n",
    "`11`"
   ]
  },
  {
   "cell_type": "markdown",
   "id": "acbab42e",
   "metadata": {},
   "source": [
    "**Q3. Slice the first 3 characters from the string \"Python Programming\"**\n",
    "`Pyt`"
   ]
  },
  {
   "cell_type": "markdown",
   "id": "cf03e335",
   "metadata": {},
   "source": [
    "**Q4. Convert the string \"hello\" to uppercase**\n",
    "`HELLO`"
   ]
  },
  {
   "cell_type": "markdown",
   "id": "89ca4018",
   "metadata": {},
   "source": [
    "**Q5. Replace the word \"apple\" with \"orange\" in the string \"I like apple\"**\n",
    "`I like orange`"
   ]
  },
  {
   "cell_type": "markdown",
   "id": "5c3371a1",
   "metadata": {},
   "source": [
    "**Q6. Create a list with numbers 1 to 5 and print it**\n",
    "`[1, 2, 3, 4, 5]`"
   ]
  },
  {
   "cell_type": "markdown",
   "id": "05521e5a",
   "metadata": {},
   "source": [
    "**Q7. Append the number 10 to the list [1, 2, 3, 4]**\n",
    "`[1, 2, 3, 4, 10]`"
   ]
  },
  {
   "cell_type": "markdown",
   "id": "f1bb78a1",
   "metadata": {},
   "source": [
    "**Q8. Remove the number 3 from the list [1, 2, 3, 4, 5]**\n",
    "`[1, 2, 4, 5]`"
   ]
  },
  {
   "cell_type": "markdown",
   "id": "195bcdf6",
   "metadata": {},
   "source": [
    "**Q9. Access the second element in the list ['a', 'b', 'c', 'd']**\n",
    "`b`"
   ]
  },
  {
   "cell_type": "markdown",
   "id": "7a9a7483",
   "metadata": {},
   "source": [
    "**Q10. Reverse the list [10, 20, 30, 40, 50]**\n",
    "`[50, 40, 30, 20, 10]`"
   ]
  },
  {
   "cell_type": "markdown",
   "id": "974cd3ae",
   "metadata": {},
   "source": [
    "**Q11. Create a tuple with the elements 100, 200, 300 and print it**\n",
    "`(100, 200, 300)`"
   ]
  },
  {
   "cell_type": "markdown",
   "id": "9712e958",
   "metadata": {},
   "source": [
    "**Q12. Access the second-to-last element of the tuple ('red', 'green', 'blue', 'yellow')**\n",
    "`blue`"
   ]
  },
  {
   "cell_type": "markdown",
   "id": "802bd6e8",
   "metadata": {},
   "source": [
    "**Q13. Find the minimum number in the tuple (10, 20, 5, 15)**\n",
    "`5`"
   ]
  },
  {
   "cell_type": "markdown",
   "id": "6ee64e5e",
   "metadata": {},
   "source": [
    "**Q14. Find the index of the element \"cat\" in the tuple ('dog', 'cat', 'rabbit')**\n",
    "`1`"
   ]
  },
  {
   "cell_type": "markdown",
   "id": "bc1225af",
   "metadata": {},
   "source": [
    "**Q15. Create a tuple containing three different fruits and check if \"kiwi\" is in it**\n",
    "`False`"
   ]
  },
  {
   "cell_type": "markdown",
   "id": "e017698c",
   "metadata": {},
   "source": [
    "**Q16. Create a set with the elements 'a', 'b', 'c' and print it**\n",
    "`{'a', 'b', 'c'}`"
   ]
  },
  {
   "cell_type": "markdown",
   "id": "cb0897f2",
   "metadata": {},
   "source": [
    "**Q17. Clear all elements from the set {1, 2, 3, 4, 5}**\n",
    "`set()`"
   ]
  },
  {
   "cell_type": "markdown",
   "id": "f13008dd",
   "metadata": {},
   "source": [
    "**Q18. Remove the element 4 from the set {1, 2, 3, 4}**\n",
    "`{1, 2, 3}`"
   ]
  },
  {
   "cell_type": "markdown",
   "id": "c3624c71",
   "metadata": {},
   "source": [
    "**Q19. Find the union of two sets {1, 2, 3} and {3, 4, 5}**\n",
    "`{1, 2, 3, 4, 5}`"
   ]
  },
  {
   "cell_type": "markdown",
   "id": "1c4241e9",
   "metadata": {},
   "source": [
    "**Q20. Find the intersection of two sets {1, 2, 3} and {2, 3, 4}**\n",
    "`{2, 3}`"
   ]
  },
  {
   "cell_type": "markdown",
   "id": "022a9e89",
   "metadata": {},
   "source": [
    "**Q21. Create a dictionary with the keys \"name\", \"age\", and \"city\", and print it**\n",
    "`{'name': 'John', 'age': 30, 'city': 'New York'}`"
   ]
  },
  {
   "cell_type": "markdown",
   "id": "049812f7",
   "metadata": {},
   "source": [
    "**Q22. Add a new key-value pair \"country\": \"USA\" to the dictionary**\n",
    "`{'name': 'John', 'age': 25, 'country': 'USA'}`"
   ]
  },
  {
   "cell_type": "markdown",
   "id": "66c662c8",
   "metadata": {},
   "source": [
    "**Q23. Access the value associated with the key \"name\" in the dictionary**\n",
    "`Alice`"
   ]
  },
  {
   "cell_type": "markdown",
   "id": "24ec882d",
   "metadata": {},
   "source": [
    "**Q24. Remove the key \"age\" from the dictionary**\n",
    "`{'name': 'Bob', 'city': 'New York'}`"
   ]
  },
  {
   "cell_type": "markdown",
   "id": "8562b2b3",
   "metadata": {},
   "source": [
    "**Q25. Check if the key \"city\" exists in the dictionary**\n",
    "`True`"
   ]
  },
  {
   "cell_type": "markdown",
   "id": "0dcb31dd",
   "metadata": {},
   "source": [
    "**Q26. Create a list, a tuple, and a dictionary, and print them all**\n",
    "`[1, 2] (3, 4) {'a': 1}`"
   ]
  },
  {
   "cell_type": "markdown",
   "id": "9e1a9955",
   "metadata": {},
   "source": [
    "**Q27. Create a list of 5 random numbers between 1 and 100, sort and print it**\n",
    "`[12, 29, 44, 78, 97]`"
   ]
  },
  {
   "cell_type": "markdown",
   "id": "aba67b51",
   "metadata": {},
   "source": [
    "**Q28. Create a list with strings and print the element at the third index**\n",
    "`delta`"
   ]
  },
  {
   "cell_type": "markdown",
   "id": "47011d58",
   "metadata": {},
   "source": [
    "**Q29. Combine two dictionaries into one and print the result**\n",
    "`{'a': 1, 'b': 2, 'c': 3, 'd': 4}`"
   ]
  },
  {
   "cell_type": "markdown",
   "id": "aef3a9c9",
   "metadata": {},
   "source": [
    "**Q30. Convert a list of strings into a set**\n",
    "`{'banana', 'apple', 'orange'}`"
   ]
  }
 ],
 "metadata": {},
 "nbformat": 4,
 "nbformat_minor": 5
}
