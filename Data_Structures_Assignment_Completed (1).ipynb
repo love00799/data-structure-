{
 "cells": [
  {
   "cell_type": "markdown",
   "metadata": {},
   "source": [
    "# 📘 Data Structures in Python - Theory + Practical Assignment"
   ]
  },
  {
   "cell_type": "markdown",
   "metadata": {},
   "source": [
    "## Q3: What are the main differences between lists and tuples in Python?"
   ]
  },
  {
   "cell_type": "markdown",
   "metadata": {},
   "source": [
    "**Answer:**- Lists are mutable, whereas tuples are immutable.- Lists use square brackets `[ ]`, while tuples use parentheses `( )`.- Lists are generally slower than tuples due to their dynamic nature.```python# Listmy_list = [1, 2, 3]my_list[0] = 10  # Allowed# Tuplemy_tuple = (1, 2, 3)# my_tuple[0] = 10  # Error: Tuples are immutable```"
   ]
  },
  {
   "cell_type": "markdown",
   "metadata": {},
   "source": [
    "## Practical Q1: Write a code to create a string with your name and print it."
   ]
  },
  {
   "cell_type": "markdown",
   "metadata": {},
   "source": [
    "```pythonname = \"Your Name\"print(name)```"
   ]
  },
  {
   "cell_type": "markdown",
   "metadata": {},
   "source": [
    "## Practical Q2: Write a code to find the length of the string 'Hello World'."
   ]
  },
  {
   "cell_type": "markdown",
   "metadata": {},
   "source": [
    "```pythons = \"Hello World\"print(len(s))  # Output: 11```"
   ]
  },
  {
   "cell_type": "markdown",
   "metadata": {},
   "source": [
    "## Practical Q3: Write a code to slice the first 3 characters from the string 'Python Programming'."
   ]
  },
  {
   "cell_type": "markdown",
   "metadata": {},
   "source": [
    "```pythons = \"Python Programming\"print(s[:3])  # Output: Pyt```"
   ]
  },
  {
   "cell_type": "markdown",
   "metadata": {},
   "source": [
    "## Practical Q4: Write a code to convert the string 'hello' to uppercase."
   ]
  },
  {
   "cell_type": "markdown",
   "metadata": {},
   "source": [
    "```pythons = \"hello\"print(s.upper())  # Output: HELLO```"
   ]
  },
  {
   "cell_type": "markdown",
   "metadata": {},
   "source": [
    "## Practical Q5: Write a code to replace the word 'apple' with 'orange' in the string 'I like apple'."
   ]
  },
  {
   "cell_type": "markdown",
   "metadata": {},
   "source": [
    "```pythons = \"I like apple\"print(s.replace(\"apple\", \"orange\"))  # Output: I like orange```"
   ]
  },
  {
   "cell_type": "markdown",
   "metadata": {},
   "source": [
    "## Practical Q6: Write a code to create a list with numbers 1 to 5 and print it."
   ]
  },
  {
   "cell_type": "markdown",
   "metadata": {},
   "source": [
    "```pythonnumbers = [1, 2, 3, 4, 5]print(numbers)```"
   ]
  },
  {
   "cell_type": "markdown",
   "metadata": {},
   "source": [
    "## Practical Q7: Write a code to append the number 10 to the list [1, 2, 3, 4]."
   ]
  },
  {
   "cell_type": "markdown",
   "metadata": {},
   "source": [
    "```pythonlst = [1, 2, 3, 4]lst.append(10)print(lst)```"
   ]
  },
  {
   "cell_type": "markdown",
   "metadata": {},
   "source": [
    "## Practical Q8: Write a code to remove the number 3 from the list [1, 2, 3, 4, 5]."
   ]
  },
  {
   "cell_type": "markdown",
   "metadata": {},
   "source": [
    "```pythonlst = [1, 2, 3, 4, 5]lst.remove(3)print(lst)```"
   ]
  },
  {
   "cell_type": "markdown",
   "metadata": {},
   "source": [
    "## Practical Q9: Write a code to access the second element in the list ['a', 'b', 'c', 'd']."
   ]
  },
  {
   "cell_type": "markdown",
   "metadata": {},
   "source": [
    "```pythonlst = ['a', 'b', 'c', 'd']print(lst[1])  # Output: b```"
   ]
  },
  {
   "cell_type": "markdown",
   "metadata": {},
   "source": [
    "## Practical Q10: Write a code to reverse the list [10, 20, 30, 40, 50]."
   ]
  },
  {
   "cell_type": "markdown",
   "metadata": {},
   "source": [
    "```pythonlst = [10, 20, 30, 40, 50]lst.reverse()print(lst)```"
   ]
  },
  {
   "cell_type": "markdown",
   "metadata": {},
   "source": [
    "## Q1: What are data structures, and why are they important?"
   ]
  },
  {
   "cell_type": "markdown",
   "metadata": {},
   "source": [
    "**Answer:**Data structures are specialized formats for organizing, processing, and storing data. They are crucial for:- Efficient data access and modification.- Optimizing algorithm performance.- Managing large data sets in applications.Examples include lists, tuples, dictionaries, and sets."
   ]
  },
  {
   "cell_type": "markdown",
   "metadata": {},
   "source": [
    "## Q2: Explain the difference between mutable and immutable data types with examples."
   ]
  },
  {
   "cell_type": "markdown",
   "metadata": {},
   "source": [
    "**Answer:**- **Mutable** data types can be changed after creation. (e.g., Lists, Dictionaries, Sets)- **Immutable** data types cannot be changed. (e.g., Strings, Tuples, Integers)```python# Mutablelst = [1, 2, 3]lst[0] = 10# Immutables = \"hello\"# s[0] = 'H'  # Error: strings are immutable```"
   ]
  },
  {
   "cell_type": "markdown",
   "metadata": {},
   "source": [
    "## Q4: Describe how dictionaries store data."
   ]
  },
  {
   "cell_type": "markdown",
   "metadata": {},
   "source": [
    "**Answer:**Dictionaries store data in key-value pairs using a structure called a hash table. Each key maps to a value, allowing fast access, insertion, and deletion based on keys."
   ]
  },
  {
   "cell_type": "markdown",
   "metadata": {},
   "source": [
    "## Q5: Why might you use a set instead of a list in Python?"
   ]
  },
  {
   "cell_type": "markdown",
   "metadata": {},
   "source": [
    "**Answer:**Sets automatically discard duplicates and offer faster membership testing. They're ideal when:- Uniqueness is important- Membership checking (e.g., `x in set`) needs to be fast."
   ]
  },
  {
   "cell_type": "markdown",
   "metadata": {},
   "source": [
    "## Q6: What is a string in Python, and how is it different from a list?"
   ]
  },
  {
   "cell_type": "markdown",
   "metadata": {},
   "source": [
    "**Answer:**- A string is an immutable sequence of characters.- A list is mutable and can contain multiple data types.```pythons = \"hello\"l = ['h', 'e', 'l', 'l', 'o']```"
   ]
  },
  {
   "cell_type": "markdown",
   "metadata": {},
   "source": [
    "## Q7: How do tuples ensure data integrity in Python?"
   ]
  },
  {
   "cell_type": "markdown",
   "metadata": {},
   "source": [
    "**Answer:**Tuples are immutable, meaning their content cannot be changed after creation. This helps ensure that data remains fixed and secure, especially in configurations or keys."
   ]
  },
  {
   "cell_type": "markdown",
   "metadata": {},
   "source": [
    "## Q8: What is a hash table, and how does it relate to dictionaries in Python?"
   ]
  },
  {
   "cell_type": "markdown",
   "metadata": {},
   "source": [
    "**Answer:**A hash table is a data structure that maps keys to values using a hash function. Python dictionaries are implemented as hash tables for fast data access."
   ]
  },
  {
   "cell_type": "markdown",
   "metadata": {},
   "source": [
    "## Q9: Can lists contain different data types in Python?"
   ]
  },
  {
   "cell_type": "markdown",
   "metadata": {},
   "source": [
    "**Answer:**Yes, Python lists can contain elements of different data types:```pythonmixed_list = [1, \"hello\", 3.14, True]```"
   ]
  },
  {
   "cell_type": "markdown",
   "metadata": {},
   "source": [
    "## Q10: Explain why strings are immutable in Python."
   ]
  },
  {
   "cell_type": "markdown",
   "metadata": {},
   "source": [
    "**Answer:**Strings are immutable for:- Performance optimization- Security and thread safety- Consistency in hash values (e.g., when used as dictionary keys)"
   ]
  },
  {
   "cell_type": "markdown",
   "metadata": {},
   "source": [
    "## Q11: What advantages do dictionaries offer over lists for certain tasks?"
   ]
  },
  {
   "cell_type": "markdown",
   "metadata": {},
   "source": [
    "**Answer:**Dictionaries allow fast access to data using keys rather than indexes. They're ideal when:- Key-value relationships exist- Fast lookups and updates are required"
   ]
  },
  {
   "cell_type": "markdown",
   "metadata": {},
   "source": [
    "## Q12: Describe a scenario where using a tuple would be preferable over a list."
   ]
  },
  {
   "cell_type": "markdown",
   "metadata": {},
   "source": [
    "**Answer:**When data must not change—e.g., storing coordinates or database record keys. Tuples are also hashable and can be used as dictionary keys."
   ]
  },
  {
   "cell_type": "markdown",
   "metadata": {},
   "source": [
    "## Q13: How do sets handle duplicate values in Python?"
   ]
  },
  {
   "cell_type": "markdown",
   "metadata": {},
   "source": [
    "**Answer:**Sets discard duplicate values automatically:```pythons = {1, 2, 2, 3}print(s)  # Output: {1, 2, 3}```"
   ]
  },
  {
   "cell_type": "markdown",
   "metadata": {},
   "source": [
    "## Q14: How does the “in” keyword work differently for lists and dictionaries?"
   ]
  },
  {
   "cell_type": "markdown",
   "metadata": {},
   "source": [
    "**Answer:**- For lists: checks if a value is present.- For dictionaries: checks if a key is present.```python2 in [1,2,3]         # True'age' in {'age': 30} # True```"
   ]
  },
  {
   "cell_type": "markdown",
   "metadata": {},
   "source": [
    "## Q15: Can you modify the elements of a tuple? Explain why or why not."
   ]
  },
  {
   "cell_type": "markdown",
   "metadata": {},
   "source": [
    "**Answer:**No. Tuples are immutable, so their elements cannot be changed after creation."
   ]
  },
  {
   "cell_type": "markdown",
   "metadata": {},
   "source": [
    "## Q16: What is a nested dictionary, and give an example of its use case."
   ]
  },
  {
   "cell_type": "markdown",
   "metadata": {},
   "source": [
    "**Answer:**A nested dictionary is a dictionary within another dictionary:```pythonstudents = {    \"101\": {\"name\": \"Alice\", \"grade\": \"A\"},    \"102\": {\"name\": \"Bob\", \"grade\": \"B\"}}```"
   ]
  },
  {
   "cell_type": "markdown",
   "metadata": {},
   "source": [
    "## Q17: Describe the time complexity of accessing elements in a dictionary."
   ]
  },
  {
   "cell_type": "markdown",
   "metadata": {},
   "source": [
    "**Answer:**Accessing a value by key in a dictionary is **O(1)** on average, due to hash table implementation."
   ]
  },
  {
   "cell_type": "markdown",
   "metadata": {},
   "source": [
    "## Q18: In what situations are lists preferred over dictionaries?"
   ]
  },
  {
   "cell_type": "markdown",
   "metadata": {},
   "source": [
    "**Answer:**Lists are better when:- Order of elements matters- Index-based access is needed- Data does not require key-value pairing"
   ]
  },
  {
   "cell_type": "markdown",
   "metadata": {},
   "source": [
    "## Q19: Why are dictionaries considered unordered, and how does that affect data retrieval?"
   ]
  },
  {
   "cell_type": "markdown",
   "metadata": {},
   "source": [
    "**Answer:**Prior to Python 3.7, dictionaries were unordered. In modern Python, insertion order is preserved, but logical ordering is not guaranteed for sorting unless explicitly handled."
   ]
  },
  {
   "cell_type": "markdown",
   "metadata": {},
   "source": [
    "## Q20: Explain the difference between a list and a dictionary in terms of data retrieval."
   ]
  },
  {
   "cell_type": "markdown",
   "metadata": {},
   "source": [
    "**Answer:**- Lists use indexes to retrieve values.- Dictionaries use unique keys for retrieval.```pythonlst = ['a', 'b']d = {'a': 1}print(lst[0])  # 'a'print(d['a'])  # 1```"
   ]
  }
 ],
 "metadata": {
  "kernelspec": {
   "display_name": "Python 3",
   "language": "python",
   "name": "python3"
  },
  "language_info": {
   "codemirror_mode": {
    "name": "ipython",
    "version": 3
   },
   "file_extension": ".py",
   "mimetype": "text/x-python",
   "name": "python",
   "nbconvert_exporter": "python",
   "pygments_lexer": "ipython3",
   "version": "3.11.8"
  }
 },
 "nbformat": 4,
 "nbformat_minor": 2
}
